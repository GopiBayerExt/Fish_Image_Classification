{
 "cells": [
  {
   "cell_type": "markdown",
   "id": "b9450199",
   "metadata": {},
   "source": [
    "# **Multiclass Fish Image Classification**"
   ]
  },
  {
   "cell_type": "markdown",
   "id": "1e53ab30",
   "metadata": {},
   "source": [
    "# **Libraries Used**"
   ]
  },
  {
   "cell_type": "code",
   "execution_count": 1,
   "id": "41d68aa1",
   "metadata": {},
   "outputs": [],
   "source": [
    "import os\n",
    "import numpy as np\n",
    "\n",
    "from sklearn.metrics import classification_report\n",
    "\n",
    "from tensorflow.keras.preprocessing import image\n",
    "from tensorflow.keras import models,layers\n",
    "from tensorflow.keras.callbacks import EarlyStopping\n",
    "\n",
    "from tensorflow.keras.applications import VGG16, ResNet50, MobileNetV2, InceptionV3, EfficientNetB0\n",
    "from tensorflow.keras.optimizers import Adam"
   ]
  },
  {
   "cell_type": "markdown",
   "id": "8044798e",
   "metadata": {},
   "source": [
    "# **Data Loading**"
   ]
  },
  {
   "cell_type": "markdown",
   "id": "12d723a1",
   "metadata": {},
   "source": [
    "Train Data:"
   ]
  },
  {
   "cell_type": "code",
   "execution_count": 2,
   "id": "8431e934",
   "metadata": {},
   "outputs": [
    {
     "name": "stdout",
     "output_type": "stream",
     "text": [
      "Found 5099 images belonging to 9 classes.\n"
     ]
    }
   ],
   "source": [
    "# Train Data path\n",
    "train_data_path = \"data/train\"\n",
    "\n",
    "# All Classes\n",
    "classes = os.listdir(train_data_path)\n",
    "\n",
    "# Ignore \"Animal fish\" and \"Animal fish bass\"\n",
    "classes_filtered = [cls for cls in classes if cls.startswith(\"fish sea_food\")]\n",
    "\n",
    "# Keeping only Species name \n",
    "classes_new = [cls.replace(\"fish sea_food \", \"\") for cls in classes_filtered]\n",
    "classes_final = [cls.replace(\"_\", \" \").title() for cls in classes_new]\n",
    "\n",
    "# Rescaling\n",
    "rescaled = image.ImageDataGenerator(rescale=1./255)\n",
    "\n",
    "# Load Train Data\n",
    "train_generator = rescaled.flow_from_directory(\n",
    "    train_data_path,\n",
    "    target_size=(224, 224),\n",
    "    batch_size=32,\n",
    "    classes=classes_filtered,\n",
    "    class_mode=\"categorical\"\n",
    ")"
   ]
  },
  {
   "cell_type": "markdown",
   "id": "09f55063",
   "metadata": {},
   "source": [
    "Validation Data:"
   ]
  },
  {
   "cell_type": "code",
   "execution_count": 3,
   "id": "be1f83c3",
   "metadata": {},
   "outputs": [
    {
     "name": "stdout",
     "output_type": "stream",
     "text": [
      "Found 895 images belonging to 9 classes.\n"
     ]
    }
   ],
   "source": [
    "# Validation Data path\n",
    "val_data_path = \"data/val\"\n",
    "\n",
    "# Load Validation Data\n",
    "val_generator = rescaled.flow_from_directory(\n",
    "    val_data_path,\n",
    "    target_size=(224, 224),\n",
    "    batch_size=32,\n",
    "    classes=classes_filtered,\n",
    "    class_mode='categorical'\n",
    ")"
   ]
  },
  {
   "cell_type": "markdown",
   "id": "5e0f9938",
   "metadata": {},
   "source": [
    "Test Data:"
   ]
  },
  {
   "cell_type": "code",
   "execution_count": 4,
   "id": "85882c63",
   "metadata": {},
   "outputs": [
    {
     "name": "stdout",
     "output_type": "stream",
     "text": [
      "Found 2654 images belonging to 9 classes.\n"
     ]
    }
   ],
   "source": [
    "# Test Data path\n",
    "test_data_path = \"data/test\"\n",
    "\n",
    "# Load Test Data\n",
    "test_generator = rescaled.flow_from_directory(\n",
    "    test_data_path,\n",
    "    target_size=(224, 224),\n",
    "    batch_size=32,\n",
    "    classes=classes_filtered,\n",
    "    class_mode='categorical',\n",
    "    shuffle=False\n",
    ")"
   ]
  },
  {
   "cell_type": "markdown",
   "id": "32f91a03",
   "metadata": {},
   "source": [
    "Label Mapping:"
   ]
  },
  {
   "cell_type": "code",
   "execution_count": 5,
   "id": "43a997bb",
   "metadata": {},
   "outputs": [
    {
     "name": "stdout",
     "output_type": "stream",
     "text": [
      "Class index mapping:\n",
      "{0: 'Black Sea Sprat', 1: 'Gilt Head Bream', 2: 'Hourse Mackerel', 3: 'Red Mullet', 4: 'Red Sea Bream', 5: 'Sea Bass', 6: 'Shrimp', 7: 'Striped Red Mullet', 8: 'Trout'}\n"
     ]
    }
   ],
   "source": [
    "# Label Mapping \n",
    "index_labeled = {i: name for i, name in enumerate(classes_final)}\n",
    "\n",
    "# Class Mapped\n",
    "print(\"Class index mapping:\", index_labeled, sep='\\n')"
   ]
  },
  {
   "cell_type": "markdown",
   "id": "50b5493a",
   "metadata": {},
   "source": [
    "# **CNN Model**"
   ]
  },
  {
   "cell_type": "markdown",
   "id": "8b6ca9ff",
   "metadata": {},
   "source": [
    "Model Structure:"
   ]
  },
  {
   "cell_type": "code",
   "execution_count": 6,
   "id": "0b6d4f9f",
   "metadata": {},
   "outputs": [],
   "source": [
    "cnn_model = models.Sequential([\n",
    "    layers.Input(shape=(224,224,3)),\n",
    "    layers.Conv2D(32,(3,3),activation='relu'),\n",
    "    layers.MaxPooling2D(2,2),\n",
    "    layers.Conv2D(64,(3,3),activation='relu'),\n",
    "    layers.MaxPooling2D(2,2),\n",
    "    layers.Conv2D(128,(3,3),activation='relu'),\n",
    "    layers.MaxPooling2D(2,2),\n",
    "    layers.Flatten(),\n",
    "    layers.Dense(128,activation='relu'),\n",
    "    layers.Dense(9,activation='softmax'),\n",
    "])"
   ]
  },
  {
   "cell_type": "markdown",
   "id": "9ecde41c",
   "metadata": {},
   "source": [
    "Model Compiler:"
   ]
  },
  {
   "cell_type": "code",
   "execution_count": 7,
   "id": "1615f23f",
   "metadata": {},
   "outputs": [],
   "source": [
    "cnn_model.compile(\n",
    "    optimizer='adam',\n",
    "    loss='categorical_crossentropy',\n",
    "    metrics=['accuracy']\n",
    ")"
   ]
  },
  {
   "cell_type": "markdown",
   "id": "357aa428",
   "metadata": {},
   "source": [
    "Model Train:"
   ]
  },
  {
   "cell_type": "code",
   "execution_count": 8,
   "id": "b2ab465a",
   "metadata": {},
   "outputs": [
    {
     "name": "stdout",
     "output_type": "stream",
     "text": [
      "Epoch 1/5\n"
     ]
    },
    {
     "name": "stderr",
     "output_type": "stream",
     "text": [
      "c:\\Users\\vaisa\\AppData\\Local\\Programs\\Python\\Python310\\lib\\site-packages\\keras\\src\\trainers\\data_adapters\\py_dataset_adapter.py:121: UserWarning: Your `PyDataset` class should call `super().__init__(**kwargs)` in its constructor. `**kwargs` can include `workers`, `use_multiprocessing`, `max_queue_size`. Do not pass these arguments to `fit()`, as they will be ignored.\n",
      "  self._warn_if_super_not_called()\n"
     ]
    },
    {
     "name": "stdout",
     "output_type": "stream",
     "text": [
      "\u001b[1m160/160\u001b[0m \u001b[32m━━━━━━━━━━━━━━━━━━━━\u001b[0m\u001b[37m\u001b[0m \u001b[1m63s\u001b[0m 389ms/step - accuracy: 0.3798 - loss: 1.8514 - val_accuracy: 0.8648 - val_loss: 0.4255\n",
      "Epoch 2/5\n",
      "\u001b[1m160/160\u001b[0m \u001b[32m━━━━━━━━━━━━━━━━━━━━\u001b[0m\u001b[37m\u001b[0m \u001b[1m55s\u001b[0m 343ms/step - accuracy: 0.8821 - loss: 0.3791 - val_accuracy: 0.8782 - val_loss: 0.3693\n",
      "Epoch 3/5\n",
      "\u001b[1m160/160\u001b[0m \u001b[32m━━━━━━━━━━━━━━━━━━━━\u001b[0m\u001b[37m\u001b[0m \u001b[1m54s\u001b[0m 340ms/step - accuracy: 0.9578 - loss: 0.1311 - val_accuracy: 0.9385 - val_loss: 0.1749\n",
      "Epoch 4/5\n",
      "\u001b[1m160/160\u001b[0m \u001b[32m━━━━━━━━━━━━━━━━━━━━\u001b[0m\u001b[37m\u001b[0m \u001b[1m56s\u001b[0m 349ms/step - accuracy: 0.9881 - loss: 0.0395 - val_accuracy: 0.9553 - val_loss: 0.1304\n",
      "Epoch 5/5\n",
      "\u001b[1m160/160\u001b[0m \u001b[32m━━━━━━━━━━━━━━━━━━━━\u001b[0m\u001b[37m\u001b[0m \u001b[1m58s\u001b[0m 362ms/step - accuracy: 0.9949 - loss: 0.0185 - val_accuracy: 0.9743 - val_loss: 0.0765\n"
     ]
    }
   ],
   "source": [
    "cnn_trained = cnn_model.fit(\n",
    "    train_generator, \n",
    "    epochs=5, \n",
    "    validation_data=val_generator\n",
    ")"
   ]
  },
  {
   "cell_type": "markdown",
   "id": "fb236085",
   "metadata": {},
   "source": [
    "Model Evaluate:"
   ]
  },
  {
   "cell_type": "code",
   "execution_count": 9,
   "id": "ab787313",
   "metadata": {},
   "outputs": [
    {
     "name": "stdout",
     "output_type": "stream",
     "text": [
      "\u001b[1m83/83\u001b[0m \u001b[32m━━━━━━━━━━━━━━━━━━━━\u001b[0m\u001b[37m\u001b[0m \u001b[1m8s\u001b[0m 90ms/step - accuracy: 0.9678 - loss: 0.0863\n",
      "Test Loss: 0.0882\n",
      "Test Accuracy: 0.9691\n"
     ]
    }
   ],
   "source": [
    "test_loss, test_accuracy = cnn_model.evaluate(test_generator)\n",
    "print(f\"Test Loss: {test_loss:.4f}\")\n",
    "print(f\"Test Accuracy: {test_accuracy:.4f}\")"
   ]
  },
  {
   "cell_type": "markdown",
   "id": "771b62f3",
   "metadata": {},
   "source": [
    "Classification Report:"
   ]
  },
  {
   "cell_type": "code",
   "execution_count": 10,
   "id": "f1ffb15e",
   "metadata": {},
   "outputs": [
    {
     "name": "stdout",
     "output_type": "stream",
     "text": [
      "\u001b[1m83/83\u001b[0m \u001b[32m━━━━━━━━━━━━━━━━━━━━\u001b[0m\u001b[37m\u001b[0m \u001b[1m6s\u001b[0m 75ms/step\n",
      "                    precision    recall  f1-score   support\n",
      "\n",
      "   Black Sea Sprat       0.98      0.98      0.98       298\n",
      "   Gilt Head Bream       0.96      0.97      0.96       305\n",
      "   Hourse Mackerel       0.95      0.95      0.95       286\n",
      "        Red Mullet       0.99      0.98      0.98       291\n",
      "     Red Sea Bream       0.97      0.96      0.97       273\n",
      "          Sea Bass       0.96      0.93      0.95       327\n",
      "            Shrimp       0.99      0.99      0.99       289\n",
      "Striped Red Mullet       0.94      0.98      0.96       293\n",
      "             Trout       0.99      0.99      0.99       292\n",
      "\n",
      "          accuracy                           0.97      2654\n",
      "         macro avg       0.97      0.97      0.97      2654\n",
      "      weighted avg       0.97      0.97      0.97      2654\n",
      "\n"
     ]
    }
   ],
   "source": [
    "y_pred_probs = cnn_model.predict(test_generator)\n",
    "y_pred = np.argmax(y_pred_probs, axis=1)\n",
    "y_true = test_generator.classes\n",
    "report = classification_report(y_true, y_pred, target_names=classes_final)\n",
    "print(report)"
   ]
  },
  {
   "cell_type": "markdown",
   "id": "cd94f74f",
   "metadata": {},
   "source": [
    "Image Test:"
   ]
  },
  {
   "cell_type": "code",
   "execution_count": 14,
   "id": "cffdd6f0",
   "metadata": {},
   "outputs": [],
   "source": [
    "def predict_fish_class(img_path, model, label_map):\n",
    "    img = image.load_img(img_path, target_size=(224, 224))    \n",
    "    img_array = image.img_to_array(img)\n",
    "    img_array = img_array / 255.0\n",
    "    img_array = np.expand_dims(img_array, axis=0)\n",
    "\n",
    "    predictions = model.predict(img_array)\n",
    "    predicted_idx = np.argmax(predictions, axis=1)[0]\n",
    "    predicted_name = label_map[predicted_idx]\n",
    "    confidence = predictions[0][predicted_idx]\n",
    "    \n",
    "    return predicted_name, confidence"
   ]
  },
  {
   "cell_type": "code",
   "execution_count": 15,
   "id": "73edd56b",
   "metadata": {},
   "outputs": [
    {
     "name": "stdout",
     "output_type": "stream",
     "text": [
      "\u001b[1m1/1\u001b[0m \u001b[32m━━━━━━━━━━━━━━━━━━━━\u001b[0m\u001b[37m\u001b[0m \u001b[1m0s\u001b[0m 29ms/step\n",
      "Predicted Fish Species: Sea Bass\n",
      "Confidence: 0.93\n"
     ]
    }
   ],
   "source": [
    "img_path = r'data\\test\\fish sea_food sea_bass\\0L8PRYEJDGPN.jpg'\n",
    "predicted_class, confidence_score = predict_fish_class(img_path, cnn_model, index_labeled)\n",
    "\n",
    "print(f\"Predicted Fish Species: {predicted_class}\")\n",
    "print(f\"Confidence: {confidence_score:.2f}\")"
   ]
  },
  {
   "cell_type": "code",
   "execution_count": 16,
   "id": "0ba9d4a8",
   "metadata": {},
   "outputs": [
    {
     "name": "stdout",
     "output_type": "stream",
     "text": [
      "\u001b[1m1/1\u001b[0m \u001b[32m━━━━━━━━━━━━━━━━━━━━\u001b[0m\u001b[37m\u001b[0m \u001b[1m0s\u001b[0m 41ms/step\n",
      "Predicted Fish Species: Red Mullet\n",
      "Confidence: 1.00\n"
     ]
    }
   ],
   "source": [
    "img_path = r'data\\test\\fish sea_food red_mullet\\0DTLG8H3NN5N.jpg'\n",
    "predicted_class, confidence_score = predict_fish_class(img_path, cnn_model, index_labeled)\n",
    "\n",
    "print(f\"Predicted Fish Species: {predicted_class}\")\n",
    "print(f\"Confidence: {confidence_score:.2f}\")"
   ]
  },
  {
   "cell_type": "markdown",
   "id": "98e03cce",
   "metadata": {},
   "source": [
    "Model Save:"
   ]
  },
  {
   "cell_type": "code",
   "execution_count": 17,
   "id": "6eefcebf",
   "metadata": {},
   "outputs": [],
   "source": [
    "cnn_model.save('CNN_Model.keras')"
   ]
  },
  {
   "cell_type": "markdown",
   "id": "97890f09",
   "metadata": {},
   "source": [
    "# **Pre-Trained Models**"
   ]
  },
  {
   "cell_type": "markdown",
   "id": "699e50ec",
   "metadata": {},
   "source": [
    "Models:"
   ]
  },
  {
   "cell_type": "code",
   "execution_count": 18,
   "id": "7711fc60",
   "metadata": {},
   "outputs": [],
   "source": [
    "pre_trained_models = [\n",
    "    # {\"name\": \"VGG16\", \"builder\": VGG16, \"preprocess\": None},\n",
    "    # {\"name\": \"ResNet50\", \"builder\": ResNet50, \"preprocess\": None},\n",
    "    {\"name\": \"InceptionV3\", \"builder\": InceptionV3, \"preprocess\": None},\n",
    "    {\"name\": \"EfficientNetB0\", \"builder\": EfficientNetB0, \"preprocess\": None},\n",
    "    {\"name\": \"MobileNetV2\", \"builder\": MobileNetV2, \"preprocess\": None},\n",
    "]"
   ]
  },
  {
   "cell_type": "markdown",
   "id": "ea78cca2",
   "metadata": {},
   "source": [
    "Model Trainings:"
   ]
  },
  {
   "cell_type": "code",
   "execution_count": 19,
   "id": "94f06f46",
   "metadata": {},
   "outputs": [
    {
     "name": "stdout",
     "output_type": "stream",
     "text": [
      "Training with InceptionV3\n",
      "Epoch 1/5\n",
      "\u001b[1m160/160\u001b[0m \u001b[32m━━━━━━━━━━━━━━━━━━━━\u001b[0m\u001b[37m\u001b[0m \u001b[1m73s\u001b[0m 433ms/step - accuracy: 0.7477 - loss: 0.7892 - val_accuracy: 0.9587 - val_loss: 0.1272\n",
      "Epoch 2/5\n",
      "\u001b[1m160/160\u001b[0m \u001b[32m━━━━━━━━━━━━━━━━━━━━\u001b[0m\u001b[37m\u001b[0m \u001b[1m70s\u001b[0m 438ms/step - accuracy: 0.9843 - loss: 0.0723 - val_accuracy: 0.9788 - val_loss: 0.0688\n",
      "Epoch 3/5\n",
      "\u001b[1m160/160\u001b[0m \u001b[32m━━━━━━━━━━━━━━━━━━━━\u001b[0m\u001b[37m\u001b[0m \u001b[1m69s\u001b[0m 432ms/step - accuracy: 0.9933 - loss: 0.0349 - val_accuracy: 0.9810 - val_loss: 0.0741\n",
      "Epoch 4/5\n",
      "\u001b[1m160/160\u001b[0m \u001b[32m━━━━━━━━━━━━━━━━━━━━\u001b[0m\u001b[37m\u001b[0m \u001b[1m65s\u001b[0m 408ms/step - accuracy: 0.9971 - loss: 0.0222 - val_accuracy: 0.9765 - val_loss: 0.0822\n",
      "Epoch 5/5\n",
      "\u001b[1m160/160\u001b[0m \u001b[32m━━━━━━━━━━━━━━━━━━━━\u001b[0m\u001b[37m\u001b[0m \u001b[1m64s\u001b[0m 398ms/step - accuracy: 0.9941 - loss: 0.0273 - val_accuracy: 0.9855 - val_loss: 0.0470\n",
      "\u001b[1m83/83\u001b[0m \u001b[32m━━━━━━━━━━━━━━━━━━━━\u001b[0m\u001b[37m\u001b[0m \u001b[1m29s\u001b[0m 346ms/step - accuracy: 0.9917 - loss: 0.0285\n",
      "InceptionV3 Test Accuracy: 0.9894\n",
      "\n",
      "Training with EfficientNetB0\n",
      "Epoch 1/5\n",
      "\u001b[1m160/160\u001b[0m \u001b[32m━━━━━━━━━━━━━━━━━━━━\u001b[0m\u001b[37m\u001b[0m \u001b[1m70s\u001b[0m 395ms/step - accuracy: 0.1055 - loss: 2.2208 - val_accuracy: 0.1095 - val_loss: 2.1972\n",
      "Epoch 2/5\n",
      "\u001b[1m160/160\u001b[0m \u001b[32m━━━━━━━━━━━━━━━━━━━━\u001b[0m\u001b[37m\u001b[0m \u001b[1m63s\u001b[0m 394ms/step - accuracy: 0.1139 - loss: 2.1971 - val_accuracy: 0.1095 - val_loss: 2.1973\n",
      "Epoch 3/5\n",
      "\u001b[1m160/160\u001b[0m \u001b[32m━━━━━━━━━━━━━━━━━━━━\u001b[0m\u001b[37m\u001b[0m \u001b[1m57s\u001b[0m 358ms/step - accuracy: 0.1187 - loss: 2.1970 - val_accuracy: 0.1095 - val_loss: 2.1973\n",
      "Epoch 4/5\n",
      "\u001b[1m160/160\u001b[0m \u001b[32m━━━━━━━━━━━━━━━━━━━━\u001b[0m\u001b[37m\u001b[0m \u001b[1m55s\u001b[0m 345ms/step - accuracy: 0.1160 - loss: 2.1973 - val_accuracy: 0.1095 - val_loss: 2.1975\n",
      "Epoch 5/5\n",
      "\u001b[1m160/160\u001b[0m \u001b[32m━━━━━━━━━━━━━━━━━━━━\u001b[0m\u001b[37m\u001b[0m \u001b[1m56s\u001b[0m 348ms/step - accuracy: 0.1155 - loss: 2.1969 - val_accuracy: 0.1095 - val_loss: 2.1974\n",
      "\u001b[1m83/83\u001b[0m \u001b[32m━━━━━━━━━━━━━━━━━━━━\u001b[0m\u001b[37m\u001b[0m \u001b[1m24s\u001b[0m 294ms/step - accuracy: 0.0083 - loss: 2.1947\n",
      "EfficientNetB0 Test Accuracy: 0.1100\n",
      "\n",
      "Training with MobileNetV2\n",
      "Epoch 1/5\n",
      "\u001b[1m160/160\u001b[0m \u001b[32m━━━━━━━━━━━━━━━━━━━━\u001b[0m\u001b[37m\u001b[0m \u001b[1m47s\u001b[0m 276ms/step - accuracy: 0.8002 - loss: 0.6126 - val_accuracy: 0.9922 - val_loss: 0.0502\n",
      "Epoch 2/5\n",
      "\u001b[1m160/160\u001b[0m \u001b[32m━━━━━━━━━━━━━━━━━━━━\u001b[0m\u001b[37m\u001b[0m \u001b[1m42s\u001b[0m 263ms/step - accuracy: 0.9970 - loss: 0.0260 - val_accuracy: 0.9944 - val_loss: 0.0301\n",
      "Epoch 3/5\n",
      "\u001b[1m160/160\u001b[0m \u001b[32m━━━━━━━━━━━━━━━━━━━━\u001b[0m\u001b[37m\u001b[0m \u001b[1m42s\u001b[0m 263ms/step - accuracy: 0.9984 - loss: 0.0120 - val_accuracy: 0.9899 - val_loss: 0.0357\n",
      "Epoch 4/5\n",
      "\u001b[1m160/160\u001b[0m \u001b[32m━━━━━━━━━━━━━━━━━━━━\u001b[0m\u001b[37m\u001b[0m \u001b[1m44s\u001b[0m 275ms/step - accuracy: 1.0000 - loss: 0.0066 - val_accuracy: 0.9966 - val_loss: 0.0154\n",
      "Epoch 5/5\n",
      "\u001b[1m160/160\u001b[0m \u001b[32m━━━━━━━━━━━━━━━━━━━━\u001b[0m\u001b[37m\u001b[0m \u001b[1m46s\u001b[0m 288ms/step - accuracy: 1.0000 - loss: 0.0029 - val_accuracy: 0.9966 - val_loss: 0.0155\n",
      "\u001b[1m83/83\u001b[0m \u001b[32m━━━━━━━━━━━━━━━━━━━━\u001b[0m\u001b[37m\u001b[0m \u001b[1m19s\u001b[0m 225ms/step - accuracy: 0.9933 - loss: 0.0150\n",
      "MobileNetV2 Test Accuracy: 0.9966\n",
      "\n"
     ]
    }
   ],
   "source": [
    "results = {}\n",
    "\n",
    "for info in pre_trained_models:\n",
    "    print(f\"Training with {info['name']}\")\n",
    "    base_model = info[\"builder\"](weights=\"imagenet\", include_top=False, input_shape=(224, 224, 3))\n",
    "    base_model.trainable = False\n",
    "\n",
    "    # Build \n",
    "    model = models.Sequential([\n",
    "        base_model,\n",
    "        layers.GlobalAveragePooling2D(),\n",
    "        layers.Dense(128, activation='relu'),\n",
    "        layers.Dense(9, activation='softmax')\n",
    "    ])\n",
    "\n",
    "    # Compile\n",
    "    model.compile(optimizer='adam', loss='categorical_crossentropy', metrics=['accuracy'])\n",
    "\n",
    "    # Train \n",
    "    history = model.fit(train_generator, epochs=5, validation_data=val_generator)\n",
    "\n",
    "    # Evaluate\n",
    "    test_loss, test_acc = model.evaluate(test_generator)\n",
    "    print(f\"{info['name']} Test Accuracy: {test_acc:.4f}\")\n",
    "    results[info['name']] = test_acc\n",
    "    print()"
   ]
  },
  {
   "cell_type": "markdown",
   "id": "dbc627f4",
   "metadata": {},
   "source": [
    "Model Results:"
   ]
  },
  {
   "cell_type": "code",
   "execution_count": 20,
   "id": "1211fc35",
   "metadata": {},
   "outputs": [
    {
     "name": "stdout",
     "output_type": "stream",
     "text": [
      "Summary of all models:\n",
      "InceptionV3: 0.9894\n",
      "EfficientNetB0: 0.1100\n",
      "MobileNetV2: 0.9966\n"
     ]
    }
   ],
   "source": [
    "print(\"Summary of all models:\")\n",
    "for name, acc in results.items():\n",
    "    print(f\"{name}: {acc:.4f}\")"
   ]
  },
  {
   "cell_type": "markdown",
   "id": "74576ef4",
   "metadata": {},
   "source": [
    "# **MobileNet Model**"
   ]
  },
  {
   "cell_type": "code",
   "execution_count": 26,
   "id": "0691f73e",
   "metadata": {},
   "outputs": [],
   "source": [
    "mn_model = model"
   ]
  },
  {
   "cell_type": "code",
   "execution_count": 27,
   "id": "62bc8c8a",
   "metadata": {},
   "outputs": [
    {
     "name": "stdout",
     "output_type": "stream",
     "text": [
      "\u001b[1m83/83\u001b[0m \u001b[32m━━━━━━━━━━━━━━━━━━━━\u001b[0m\u001b[37m\u001b[0m \u001b[1m20s\u001b[0m 244ms/step\n",
      "Classification Report:\n",
      "\n",
      "                    precision    recall  f1-score   support\n",
      "\n",
      "   Black Sea Sprat       1.00      0.99      0.99       298\n",
      "   Gilt Head Bream       1.00      1.00      1.00       305\n",
      "   Hourse Mackerel       1.00      1.00      1.00       286\n",
      "        Red Mullet       1.00      0.99      0.99       291\n",
      "     Red Sea Bream       1.00      1.00      1.00       273\n",
      "          Sea Bass       0.99      1.00      1.00       327\n",
      "            Shrimp       1.00      1.00      1.00       289\n",
      "Striped Red Mullet       0.98      1.00      0.99       293\n",
      "             Trout       1.00      1.00      1.00       292\n",
      "\n",
      "          accuracy                           1.00      2654\n",
      "         macro avg       1.00      1.00      1.00      2654\n",
      "      weighted avg       1.00      1.00      1.00      2654\n",
      "\n"
     ]
    }
   ],
   "source": [
    "test_generator.reset()\n",
    "pred_probs = mn_model.predict(test_generator)\n",
    "pred_labels = np.argmax(pred_probs, axis=1)\n",
    "true_labels = test_generator.classes\n",
    "report = classification_report(true_labels, pred_labels, target_names=classes_final)\n",
    "print(\"Classification Report:\\n\")\n",
    "print(report)"
   ]
  },
  {
   "cell_type": "markdown",
   "id": "45e8d97a",
   "metadata": {},
   "source": [
    "Image Test:"
   ]
  },
  {
   "cell_type": "code",
   "execution_count": 31,
   "id": "ab9d0d7c",
   "metadata": {},
   "outputs": [
    {
     "name": "stdout",
     "output_type": "stream",
     "text": [
      "\u001b[1m1/1\u001b[0m \u001b[32m━━━━━━━━━━━━━━━━━━━━\u001b[0m\u001b[37m\u001b[0m \u001b[1m1s\u001b[0m 692ms/step\n",
      "Predicted Fish Species: Sea Bass\n",
      "Confidence: 0.99\n"
     ]
    }
   ],
   "source": [
    "img_path = r'data\\test\\fish sea_food sea_bass\\0L8PRYEJDGPN.jpg'\n",
    "predicted_class, confidence_score = predict_fish_class(img_path, mn_model, index_labeled)\n",
    "\n",
    "print(f\"Predicted Fish Species: {predicted_class}\")\n",
    "print(f\"Confidence: {confidence_score:.2f}\")"
   ]
  },
  {
   "cell_type": "code",
   "execution_count": 32,
   "id": "14bb7b53",
   "metadata": {},
   "outputs": [
    {
     "name": "stdout",
     "output_type": "stream",
     "text": [
      "\u001b[1m1/1\u001b[0m \u001b[32m━━━━━━━━━━━━━━━━━━━━\u001b[0m\u001b[37m\u001b[0m \u001b[1m0s\u001b[0m 32ms/step\n",
      "Predicted Fish Species: Red Mullet\n",
      "Confidence: 1.00\n"
     ]
    }
   ],
   "source": [
    "img_path = r'data\\test\\fish sea_food red_mullet\\0DTLG8H3NN5N.jpg'\n",
    "predicted_class, confidence_score = predict_fish_class(img_path, mn_model, index_labeled)\n",
    "\n",
    "print(f\"Predicted Fish Species: {predicted_class}\")\n",
    "print(f\"Confidence: {confidence_score:.2f}\")"
   ]
  },
  {
   "cell_type": "markdown",
   "id": "e3bc9a74",
   "metadata": {},
   "source": [
    "Model Save:"
   ]
  },
  {
   "cell_type": "code",
   "execution_count": 33,
   "id": "52e77969",
   "metadata": {},
   "outputs": [],
   "source": [
    "mn_model.save('MobileNet_Model.keras')"
   ]
  }
 ],
 "metadata": {
  "kernelspec": {
   "display_name": "Python 3",
   "language": "python",
   "name": "python3"
  },
  "language_info": {
   "codemirror_mode": {
    "name": "ipython",
    "version": 3
   },
   "file_extension": ".py",
   "mimetype": "text/x-python",
   "name": "python",
   "nbconvert_exporter": "python",
   "pygments_lexer": "ipython3",
   "version": "3.10.11"
  }
 },
 "nbformat": 4,
 "nbformat_minor": 5
}
