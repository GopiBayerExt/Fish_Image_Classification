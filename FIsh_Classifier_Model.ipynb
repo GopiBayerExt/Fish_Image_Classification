{
 "cells": [
  {
   "cell_type": "markdown",
   "id": "b9450199",
   "metadata": {},
   "source": [
    "# **Multiclass Fish Image Classification**"
   ]
  },
  {
   "cell_type": "markdown",
   "id": "1e53ab30",
   "metadata": {},
   "source": [
    "# **Libraries Used**"
   ]
  },
  {
   "cell_type": "code",
   "execution_count": null,
   "id": "41d68aa1",
   "metadata": {},
   "outputs": [],
   "source": [
    "import os\n",
    "import numpy as np\n",
    "\n",
    "from sklearn.metrics import classification_report\n",
    "\n",
    "from tensorflow.keras.preprocessing import image\n",
    "from tensorflow.keras import models,layers\n",
    "from tensorflow.keras.callbacks import EarlyStopping"
   ]
  },
  {
   "cell_type": "markdown",
   "id": "8044798e",
   "metadata": {},
   "source": [
    "# **Data Loading**"
   ]
  },
  {
   "cell_type": "markdown",
   "id": "12d723a1",
   "metadata": {},
   "source": [
    "Train Data:"
   ]
  },
  {
   "cell_type": "code",
   "execution_count": null,
   "id": "8431e934",
   "metadata": {},
   "outputs": [
    {
     "name": "stdout",
     "output_type": "stream",
     "text": [
      "Found 5099 images belonging to 9 classes.\n"
     ]
    }
   ],
   "source": [
    "# Train Data path\n",
    "train_data_path = \"data/train\"\n",
    "\n",
    "# All Classes\n",
    "classes = os.listdir(train_data_path)\n",
    "\n",
    "# Ignore \"Animal fish\" and \"Animal fish bass\"\n",
    "classes_filtered = [cls for cls in classes if cls.startswith(\"fish sea_food\")]\n",
    "\n",
    "# Keeping only Species name \n",
    "classes_new = [cls.replace(\"fish sea_food \", \"\") for cls in classes_filtered]\n",
    "classes_final = [cls.replace(\"_\", \" \").title() for cls in classes_new]\n",
    "\n",
    "# Rescaling\n",
    "rescaled = image.ImageDataGenerator(rescale=1./255)\n",
    "\n",
    "# Load Train Data\n",
    "train_generator = rescaled.flow_from_directory(\n",
    "    train_data_path,\n",
    "    target_size=(224, 224),\n",
    "    batch_size=32,\n",
    "    classes=classes_filtered,\n",
    "    class_mode=\"categorical\"\n",
    ")"
   ]
  },
  {
   "cell_type": "markdown",
   "id": "09f55063",
   "metadata": {},
   "source": [
    "Validation Data:"
   ]
  },
  {
   "cell_type": "code",
   "execution_count": 39,
   "id": "be1f83c3",
   "metadata": {},
   "outputs": [
    {
     "name": "stdout",
     "output_type": "stream",
     "text": [
      "Found 895 images belonging to 9 classes.\n"
     ]
    }
   ],
   "source": [
    "# Validation Data path\n",
    "val_data_path = \"data/val\"\n",
    "\n",
    "# Load Validation Data\n",
    "val_generator = rescaled.flow_from_directory(\n",
    "    val_data_path,\n",
    "    target_size=(224, 224),\n",
    "    batch_size=32,\n",
    "    classes=classes_filtered,\n",
    "    class_mode='categorical'\n",
    ")"
   ]
  },
  {
   "cell_type": "markdown",
   "id": "5e0f9938",
   "metadata": {},
   "source": [
    "Test Data:"
   ]
  },
  {
   "cell_type": "code",
   "execution_count": 40,
   "id": "85882c63",
   "metadata": {},
   "outputs": [
    {
     "name": "stdout",
     "output_type": "stream",
     "text": [
      "Found 2654 images belonging to 9 classes.\n"
     ]
    }
   ],
   "source": [
    "# Test Data path\n",
    "test_data_path = \"data/test\"\n",
    "\n",
    "# Load Test Data\n",
    "test_generator = rescaled.flow_from_directory(\n",
    "    test_data_path,\n",
    "    target_size=(224, 224),\n",
    "    batch_size=32,\n",
    "    classes=classes_filtered,\n",
    "    class_mode='categorical',\n",
    "    shuffle=False\n",
    ")"
   ]
  },
  {
   "cell_type": "markdown",
   "id": "32f91a03",
   "metadata": {},
   "source": [
    "Label Mapping:"
   ]
  },
  {
   "cell_type": "code",
   "execution_count": 48,
   "id": "43a997bb",
   "metadata": {},
   "outputs": [
    {
     "name": "stdout",
     "output_type": "stream",
     "text": [
      "Class index mapping:\n",
      "{0: 'Black Sea Sprat', 1: 'Gilt Head Bream', 2: 'Hourse Mackerel', 3: 'Red Mullet', 4: 'Red Sea Bream', 5: 'Sea Bass', 6: 'Shrimp', 7: 'Striped Red Mullet', 8: 'Trout'}\n"
     ]
    }
   ],
   "source": [
    "# Label Mapping \n",
    "index_labeled = {i: name for i, name in enumerate(classes_final)}\n",
    "\n",
    "# Class Mapped\n",
    "print(\"Class index mapping:\", index_labeled, sep='\\n')"
   ]
  },
  {
   "cell_type": "markdown",
   "id": "50b5493a",
   "metadata": {},
   "source": [
    "# **CNN Model**"
   ]
  },
  {
   "cell_type": "markdown",
   "id": "8b6ca9ff",
   "metadata": {},
   "source": [
    "Model Structure:"
   ]
  },
  {
   "cell_type": "code",
   "execution_count": 42,
   "id": "0b6d4f9f",
   "metadata": {},
   "outputs": [],
   "source": [
    "cnn_model = models.Sequential([\n",
    "    layers.Input(shape=(224,224,3)),\n",
    "    layers.Conv2D(32,(3,3),activation='relu'),\n",
    "    layers.MaxPooling2D(2,2),\n",
    "    layers.Conv2D(64,(3,3),activation='relu'),\n",
    "    layers.MaxPooling2D(2,2),\n",
    "    layers.Conv2D(128,(3,3),activation='relu'),\n",
    "    layers.MaxPooling2D(2,2),\n",
    "    layers.Flatten(),\n",
    "    layers.Dense(128,activation='relu'),\n",
    "    layers.Dense(9,activation='softmax'),\n",
    "])"
   ]
  },
  {
   "cell_type": "markdown",
   "id": "9ecde41c",
   "metadata": {},
   "source": [
    "Model Compiler:"
   ]
  },
  {
   "cell_type": "code",
   "execution_count": 43,
   "id": "1615f23f",
   "metadata": {},
   "outputs": [],
   "source": [
    "cnn_model.compile(\n",
    "    optimizer='adam',\n",
    "    loss='categorical_crossentropy',\n",
    "    metrics=['accuracy']\n",
    ")"
   ]
  },
  {
   "cell_type": "markdown",
   "id": "357aa428",
   "metadata": {},
   "source": [
    "Model Train:"
   ]
  },
  {
   "cell_type": "code",
   "execution_count": null,
   "id": "b2ab465a",
   "metadata": {},
   "outputs": [
    {
     "name": "stdout",
     "output_type": "stream",
     "text": [
      "Epoch 1/5\n"
     ]
    },
    {
     "name": "stderr",
     "output_type": "stream",
     "text": [
      "c:\\Users\\vaisa\\AppData\\Local\\Programs\\Python\\Python310\\lib\\site-packages\\keras\\src\\trainers\\data_adapters\\py_dataset_adapter.py:121: UserWarning: Your `PyDataset` class should call `super().__init__(**kwargs)` in its constructor. `**kwargs` can include `workers`, `use_multiprocessing`, `max_queue_size`. Do not pass these arguments to `fit()`, as they will be ignored.\n",
      "  self._warn_if_super_not_called()\n"
     ]
    },
    {
     "name": "stdout",
     "output_type": "stream",
     "text": [
      "\u001b[1m160/160\u001b[0m \u001b[32m━━━━━━━━━━━━━━━━━━━━\u001b[0m\u001b[37m\u001b[0m \u001b[1m57s\u001b[0m 351ms/step - accuracy: 0.3832 - loss: 1.8659 - val_accuracy: 0.8067 - val_loss: 0.5700\n",
      "Epoch 2/5\n",
      "\u001b[1m160/160\u001b[0m \u001b[32m━━━━━━━━━━━━━━━━━━━━\u001b[0m\u001b[37m\u001b[0m \u001b[1m57s\u001b[0m 355ms/step - accuracy: 0.8664 - loss: 0.3884 - val_accuracy: 0.9453 - val_loss: 0.1830\n",
      "Epoch 3/5\n",
      "\u001b[1m160/160\u001b[0m \u001b[32m━━━━━━━━━━━━━━━━━━━━\u001b[0m\u001b[37m\u001b[0m \u001b[1m56s\u001b[0m 348ms/step - accuracy: 0.9601 - loss: 0.1249 - val_accuracy: 0.8961 - val_loss: 0.3233\n",
      "Epoch 4/5\n",
      "\u001b[1m160/160\u001b[0m \u001b[32m━━━━━━━━━━━━━━━━━━━━\u001b[0m\u001b[37m\u001b[0m \u001b[1m56s\u001b[0m 348ms/step - accuracy: 0.9720 - loss: 0.0752 - val_accuracy: 0.9207 - val_loss: 0.2320\n",
      "Epoch 5/5\n",
      "\u001b[1m160/160\u001b[0m \u001b[32m━━━━━━━━━━━━━━━━━━━━\u001b[0m\u001b[37m\u001b[0m \u001b[1m55s\u001b[0m 341ms/step - accuracy: 0.9869 - loss: 0.0387 - val_accuracy: 0.9609 - val_loss: 0.1265\n"
     ]
    },
    {
     "data": {
      "text/plain": [
       "<keras.src.callbacks.history.History at 0x2155e45a470>"
      ]
     },
     "execution_count": 44,
     "metadata": {},
     "output_type": "execute_result"
    }
   ],
   "source": [
    "cnn_trained = cnn_model.fit(\n",
    "    train_generator, \n",
    "    epochs=5, \n",
    "    validation_data=val_generator\n",
    ")"
   ]
  },
  {
   "cell_type": "markdown",
   "id": "fb236085",
   "metadata": {},
   "source": [
    "Model Evaluate:"
   ]
  },
  {
   "cell_type": "code",
   "execution_count": 46,
   "id": "ab787313",
   "metadata": {},
   "outputs": [
    {
     "name": "stderr",
     "output_type": "stream",
     "text": [
      "c:\\Users\\vaisa\\AppData\\Local\\Programs\\Python\\Python310\\lib\\site-packages\\keras\\src\\trainers\\data_adapters\\py_dataset_adapter.py:121: UserWarning: Your `PyDataset` class should call `super().__init__(**kwargs)` in its constructor. `**kwargs` can include `workers`, `use_multiprocessing`, `max_queue_size`. Do not pass these arguments to `fit()`, as they will be ignored.\n",
      "  self._warn_if_super_not_called()\n"
     ]
    },
    {
     "name": "stdout",
     "output_type": "stream",
     "text": [
      "\u001b[1m83/83\u001b[0m \u001b[32m━━━━━━━━━━━━━━━━━━━━\u001b[0m\u001b[37m\u001b[0m \u001b[1m7s\u001b[0m 86ms/step - accuracy: 0.9551 - loss: 0.1299\n",
      "Test Loss: 0.1506\n",
      "Test Accuracy: 0.9506\n"
     ]
    }
   ],
   "source": [
    "test_loss, test_accuracy = cnn_model.evaluate(test_generator)\n",
    "print(f\"Test Loss: {test_loss:.4f}\")\n",
    "print(f\"Test Accuracy: {test_accuracy:.4f}\")"
   ]
  },
  {
   "cell_type": "markdown",
   "id": "771b62f3",
   "metadata": {},
   "source": [
    "Classification Report:"
   ]
  },
  {
   "cell_type": "code",
   "execution_count": null,
   "id": "f1ffb15e",
   "metadata": {},
   "outputs": [
    {
     "name": "stdout",
     "output_type": "stream",
     "text": [
      "\u001b[1m83/83\u001b[0m \u001b[32m━━━━━━━━━━━━━━━━━━━━\u001b[0m\u001b[37m\u001b[0m \u001b[1m6s\u001b[0m 76ms/step\n",
      "                    precision    recall  f1-score   support\n",
      "\n",
      "   Black Sea Sprat       0.93      0.99      0.96       298\n",
      "   Gilt Head Bream       0.92      0.91      0.92       305\n",
      "   Hourse Mackerel       0.95      0.92      0.94       286\n",
      "        Red Mullet       0.98      0.99      0.99       291\n",
      "     Red Sea Bream       0.93      0.97      0.95       273\n",
      "          Sea Bass       0.95      0.92      0.94       327\n",
      "            Shrimp       1.00      0.95      0.97       289\n",
      "Striped Red Mullet       0.97      0.91      0.94       293\n",
      "             Trout       0.92      1.00      0.96       292\n",
      "\n",
      "          accuracy                           0.95      2654\n",
      "         macro avg       0.95      0.95      0.95      2654\n",
      "      weighted avg       0.95      0.95      0.95      2654\n",
      "\n"
     ]
    }
   ],
   "source": [
    "y_pred_probs = cnn_model.predict(test_generator)\n",
    "y_pred = np.argmax(y_pred_probs, axis=1)\n",
    "y_true = test_generator.classes\n",
    "report = classification_report(y_true, y_pred, target_names=classes_final)\n",
    "print(report)"
   ]
  },
  {
   "cell_type": "markdown",
   "id": "cd94f74f",
   "metadata": {},
   "source": [
    "Image Test:"
   ]
  },
  {
   "cell_type": "code",
   "execution_count": null,
   "id": "cffdd6f0",
   "metadata": {},
   "outputs": [],
   "source": [
    "def predict_fish_class(img_path, model, label_map):\n",
    "    img = image.load_img(img_path, target_size=(224, 224))    \n",
    "    img_array = image.img_to_array(img)\n",
    "    img_array = img_array / 255.0\n",
    "    img_array = np.expand_dims(img_array, axis=0)\n",
    "\n",
    "    predictions = model.predict(img_array)\n",
    "    predicted_idx = np.argmax(predictions, axis=1)[0]\n",
    "    predicted_name = label_map[predicted_idx]\n",
    "    confidence = predictions[0][predicted_name]\n",
    "    \n",
    "    return predicted_name, confidence"
   ]
  },
  {
   "cell_type": "code",
   "execution_count": 55,
   "id": "73edd56b",
   "metadata": {},
   "outputs": [
    {
     "name": "stdout",
     "output_type": "stream",
     "text": [
      "\u001b[1m1/1\u001b[0m \u001b[32m━━━━━━━━━━━━━━━━━━━━\u001b[0m\u001b[37m\u001b[0m \u001b[1m0s\u001b[0m 39ms/step\n",
      "Predicted Fish Species: Sea Bass\n",
      "Confidence: 0.99\n"
     ]
    }
   ],
   "source": [
    "img_path = r'data\\test\\fish sea_food sea_bass\\0L8PRYEJDGPN.jpg'\n",
    "predicted_class, confidence_score = predict_fish_class(img_path, cnn_model, index_labeled)\n",
    "\n",
    "print(f\"Predicted Fish Species: {predicted_class}\")\n",
    "print(f\"Confidence: {confidence_score:.2f}\")"
   ]
  },
  {
   "cell_type": "code",
   "execution_count": null,
   "id": "0ba9d4a8",
   "metadata": {},
   "outputs": [
    {
     "name": "stdout",
     "output_type": "stream",
     "text": [
      "\u001b[1m1/1\u001b[0m \u001b[32m━━━━━━━━━━━━━━━━━━━━\u001b[0m\u001b[37m\u001b[0m \u001b[1m0s\u001b[0m 33ms/step\n",
      "Predicted Fish Species: Red Mullet\n",
      "Confidence: 1.00\n"
     ]
    }
   ],
   "source": [
    "img_path = r'data\\test\\fish sea_food red_mullet\\0DTLG8H3NN5N.jpg'\n",
    "predicted_class, confidence_score = predict_fish_class(img_path, cnn_model, index_labeled)\n",
    "\n",
    "print(f\"Predicted Fish Species: {predicted_class}\")\n",
    "print(f\"Confidence: {confidence_score:.2f}\")"
   ]
  },
  {
   "cell_type": "markdown",
   "id": "98e03cce",
   "metadata": {},
   "source": [
    "Model Save:"
   ]
  },
  {
   "cell_type": "code",
   "execution_count": 49,
   "id": "6eefcebf",
   "metadata": {},
   "outputs": [],
   "source": [
    "cnn_model.save('First_Model_Good.keras')"
   ]
  }
 ],
 "metadata": {
  "kernelspec": {
   "display_name": "Python 3",
   "language": "python",
   "name": "python3"
  },
  "language_info": {
   "codemirror_mode": {
    "name": "ipython",
    "version": 3
   },
   "file_extension": ".py",
   "mimetype": "text/x-python",
   "name": "python",
   "nbconvert_exporter": "python",
   "pygments_lexer": "ipython3",
   "version": "3.10.11"
  }
 },
 "nbformat": 4,
 "nbformat_minor": 5
}
