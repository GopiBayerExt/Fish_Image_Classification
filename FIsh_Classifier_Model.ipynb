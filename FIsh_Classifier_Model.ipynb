{
 "cells": [
  {
   "cell_type": "markdown",
   "id": "b9450199",
   "metadata": {},
   "source": [
    "# **Multiclass Fish Image Classification**"
   ]
  },
  {
   "cell_type": "markdown",
   "id": "1e53ab30",
   "metadata": {},
   "source": [
    "# **Libraries Used**"
   ]
  },
  {
   "cell_type": "code",
   "execution_count": 26,
   "id": "41d68aa1",
   "metadata": {},
   "outputs": [],
   "source": [
    "import os\n",
    "from tensorflow.keras.preprocessing.image import ImageDataGenerator\n",
    "from tensorflow.keras import models,layers"
   ]
  },
  {
   "cell_type": "markdown",
   "id": "8044798e",
   "metadata": {},
   "source": [
    "# **Data Loading**"
   ]
  },
  {
   "cell_type": "markdown",
   "id": "12d723a1",
   "metadata": {},
   "source": [
    "Train Data:"
   ]
  },
  {
   "cell_type": "code",
   "execution_count": 27,
   "id": "8431e934",
   "metadata": {},
   "outputs": [
    {
     "name": "stdout",
     "output_type": "stream",
     "text": [
      "Found 5099 images belonging to 9 classes.\n"
     ]
    }
   ],
   "source": [
    "# Train Data path\n",
    "train_data_path = \"data/train\"\n",
    "\n",
    "# All Classes\n",
    "classes = os.listdir(train_data_path)\n",
    "\n",
    "# Ignore \"Animal fish\" and \"Animal fish bass\"\n",
    "classes_filtered = [cls for cls in classes if cls.startswith(\"fish sea_food\")]\n",
    "\n",
    "# Keeping only Species name \n",
    "classes_new = [cls.replace(\"fish sea_food \", \"\") for cls in classes_filtered]\n",
    "classes_final = [cls.replace(\"_\", \" \").title() for cls in classes_new]\n",
    "\n",
    "# Rescaling\n",
    "rescaled = ImageDataGenerator(rescale=1./255)\n",
    "\n",
    "# Load Train Data\n",
    "train_generator = rescaled.flow_from_directory(\n",
    "    train_data_path,\n",
    "    target_size=(224, 224),\n",
    "    batch_size=32,\n",
    "    classes=classes_filtered,\n",
    "    class_mode=\"categorical\"\n",
    ")"
   ]
  },
  {
   "cell_type": "markdown",
   "id": "09f55063",
   "metadata": {},
   "source": [
    "Validation Data:"
   ]
  },
  {
   "cell_type": "code",
   "execution_count": 28,
   "id": "be1f83c3",
   "metadata": {},
   "outputs": [
    {
     "name": "stdout",
     "output_type": "stream",
     "text": [
      "Found 895 images belonging to 9 classes.\n"
     ]
    }
   ],
   "source": [
    "# Validation Data path\n",
    "val_data_path = \"data/val\"\n",
    "\n",
    "# Load Validation Data\n",
    "val_generator = rescaled.flow_from_directory(\n",
    "    val_data_path,\n",
    "    target_size=(224, 224),\n",
    "    batch_size=32,\n",
    "    classes=classes_filtered,\n",
    "    class_mode='categorical'\n",
    ")"
   ]
  },
  {
   "cell_type": "markdown",
   "id": "5e0f9938",
   "metadata": {},
   "source": [
    "Test Data:"
   ]
  },
  {
   "cell_type": "code",
   "execution_count": 29,
   "id": "85882c63",
   "metadata": {},
   "outputs": [
    {
     "name": "stdout",
     "output_type": "stream",
     "text": [
      "Found 2654 images belonging to 9 classes.\n"
     ]
    }
   ],
   "source": [
    "# Test Data path\n",
    "test_data_path = \"data/test\"\n",
    "\n",
    "# Load Test Data\n",
    "test_generator = rescaled.flow_from_directory(\n",
    "    test_data_path,\n",
    "    target_size=(224, 224),\n",
    "    batch_size=32,\n",
    "    classes=classes_filtered,\n",
    "    class_mode='categorical',\n",
    "    shuffle=False\n",
    ")"
   ]
  },
  {
   "cell_type": "markdown",
   "id": "32f91a03",
   "metadata": {},
   "source": [
    "Label Mapping:"
   ]
  },
  {
   "cell_type": "code",
   "execution_count": 30,
   "id": "43a997bb",
   "metadata": {},
   "outputs": [
    {
     "name": "stdout",
     "output_type": "stream",
     "text": [
      "Class index mapping:\n",
      "{0: 'Black Sea Sprat', 1: 'Gilt Head Bream', 2: 'Hourse Mackerel', 3: 'Red Mullet', 4: 'Red Sea Bream', 5: 'Sea Bass', 6: 'Shrimp', 7: 'Striped Red Mullet', 8: 'Trout'}\n"
     ]
    }
   ],
   "source": [
    "# Label Mapping \n",
    "index_to_label = {i: name for i, name in enumerate(classes_final)}\n",
    "\n",
    "# Class Mapped\n",
    "print(\"Class index mapping:\", index_to_label, sep='\\n')"
   ]
  }
 ],
 "metadata": {
  "kernelspec": {
   "display_name": "Python 3",
   "language": "python",
   "name": "python3"
  },
  "language_info": {
   "codemirror_mode": {
    "name": "ipython",
    "version": 3
   },
   "file_extension": ".py",
   "mimetype": "text/x-python",
   "name": "python",
   "nbconvert_exporter": "python",
   "pygments_lexer": "ipython3",
   "version": "3.10.11"
  }
 },
 "nbformat": 4,
 "nbformat_minor": 5
}
